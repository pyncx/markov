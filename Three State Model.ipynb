{
 "cells": [
  {
   "cell_type": "markdown",
   "metadata": {},
   "source": [
    "## Three state Model"
   ]
  },
  {
   "cell_type": "code",
   "execution_count": 135,
   "metadata": {},
   "outputs": [],
   "source": [
    "import numpy as np\n",
    "import pandas as pd\n",
    "import matplotlib.pyplot as plt\n",
    "import seaborn as sns\n",
    "sns.set()\n",
    "%matplotlib inline"
   ]
  },
  {
   "cell_type": "markdown",
   "metadata": {},
   "source": [
    "### Master Equation of Three State Model"
   ]
  },
  {
   "cell_type": "markdown",
   "metadata": {},
   "source": [
    "![img](img/three-state.png)"
   ]
  },
  {
   "cell_type": "markdown",
   "metadata": {},
   "source": [
    "For equilibrium condition, we get\n",
    "\n",
    "$k_{co} c = k_{oc} o => c = \\frac{k_{oc}}{k_{co}}$\n",
    "\n",
    "$k_{oi} o = k_{io} i => i = \\frac{k_{oi}}{k_{io}}$\n",
    "\n",
    "$k_{ic} i = k_{ci} c$"
   ]
  },
  {
   "cell_type": "code",
   "execution_count": null,
   "metadata": {},
   "outputs": [],
   "source": []
  },
  {
   "cell_type": "markdown",
   "metadata": {},
   "source": [
    "Since, \n",
    "\n",
    "$ o + c + i = 1$"
   ]
  },
  {
   "cell_type": "code",
   "execution_count": null,
   "metadata": {},
   "outputs": [],
   "source": []
  },
  {
   "cell_type": "code",
   "execution_count": null,
   "metadata": {},
   "outputs": [],
   "source": []
  },
  {
   "cell_type": "code",
   "execution_count": null,
   "metadata": {},
   "outputs": [],
   "source": []
  },
  {
   "cell_type": "markdown",
   "metadata": {},
   "source": [
    "### Model Parameter"
   ]
  },
  {
   "cell_type": "code",
   "execution_count": 136,
   "metadata": {},
   "outputs": [],
   "source": [
    "k_oi,k_oc = 0.5,0.9\n",
    "k_io,k_ic = 0.3,0.72\n",
    "k_co,k_ci = 0.6,0.8\n",
    "dt = 0.01"
   ]
  },
  {
   "cell_type": "markdown",
   "metadata": {},
   "source": [
    "### 1. Monte Carlo Simulation"
   ]
  },
  {
   "cell_type": "code",
   "execution_count": 137,
   "metadata": {},
   "outputs": [],
   "source": [
    "M = {\"O\": [1-(k_oc + k_oi)*dt,   k_oc*dt,   k_oi*dt],\n",
    "     \"C\": [k_co*dt,  1-(k_co + k_ci)*dt,    k_ci*dt],\n",
    "     \"I\": [k_io*dt,  k_ic*dt,   1 - (k_io + k_ic)*dt]}\n",
    "\n",
    "states = [\"O\",\"C\",\"I\"]"
   ]
  },
  {
   "cell_type": "code",
   "execution_count": 138,
   "metadata": {},
   "outputs": [
    {
     "data": {
      "text/plain": [
       "([0.986, 0.009000000000000001, 0.005],\n",
       " [0.006, 0.986, 0.008],\n",
       " [0.003, 0.0072, 0.9898])"
      ]
     },
     "execution_count": 138,
     "metadata": {},
     "output_type": "execute_result"
    }
   ],
   "source": [
    "M[\"O\"],M[\"C\"],M[\"I\"]"
   ]
  },
  {
   "cell_type": "code",
   "execution_count": 139,
   "metadata": {},
   "outputs": [],
   "source": [
    "current_state = \"O\"\n",
    "T =1000\n",
    "N =10000\n",
    "\n",
    "SS = [[\"O\" for n in range (T)] for t in range(N)]\n",
    "\n",
    "for n in range(N):\n",
    "    no,nc,ni =0,0,0\n",
    "    for t in range(T):\n",
    "        new_state = np.random.choice(states, p = M[current_state])\n",
    "        #print(new_state)\n",
    "        SS[n][t] = new_state\n",
    "        current_state = new_state "
   ]
  },
  {
   "cell_type": "code",
   "execution_count": 140,
   "metadata": {},
   "outputs": [],
   "source": [
    "ss = np.array(SS)"
   ]
  },
  {
   "cell_type": "code",
   "execution_count": 141,
   "metadata": {},
   "outputs": [],
   "source": [
    "Data = []\n",
    "X = []\n",
    "for t in range(T):\n",
    "    X.append(t)\n",
    "    o = list(ss[:,t]).count(\"O\")/float(N)\n",
    "    c = list(ss[:,t]).count(\"C\")/float(N)\n",
    "    i = list(ss[:,t]).count(\"I\")/float(N)\n",
    "    Data.append({\"O\":o,\"C\":c,\"I\":i})"
   ]
  },
  {
   "cell_type": "code",
   "execution_count": 142,
   "metadata": {},
   "outputs": [
    {
     "data": {
      "text/html": [
       "<div>\n",
       "<style scoped>\n",
       "    .dataframe tbody tr th:only-of-type {\n",
       "        vertical-align: middle;\n",
       "    }\n",
       "\n",
       "    .dataframe tbody tr th {\n",
       "        vertical-align: top;\n",
       "    }\n",
       "\n",
       "    .dataframe thead th {\n",
       "        text-align: right;\n",
       "    }\n",
       "</style>\n",
       "<table border=\"1\" class=\"dataframe\">\n",
       "  <thead>\n",
       "    <tr style=\"text-align: right;\">\n",
       "      <th></th>\n",
       "      <th>C</th>\n",
       "      <th>I</th>\n",
       "      <th>O</th>\n",
       "    </tr>\n",
       "  </thead>\n",
       "  <tbody>\n",
       "    <tr>\n",
       "      <th>0</th>\n",
       "      <td>0.3640</td>\n",
       "      <td>0.3967</td>\n",
       "      <td>0.2393</td>\n",
       "    </tr>\n",
       "    <tr>\n",
       "      <th>1</th>\n",
       "      <td>0.3650</td>\n",
       "      <td>0.3958</td>\n",
       "      <td>0.2392</td>\n",
       "    </tr>\n",
       "    <tr>\n",
       "      <th>2</th>\n",
       "      <td>0.3638</td>\n",
       "      <td>0.3960</td>\n",
       "      <td>0.2402</td>\n",
       "    </tr>\n",
       "    <tr>\n",
       "      <th>3</th>\n",
       "      <td>0.3635</td>\n",
       "      <td>0.3962</td>\n",
       "      <td>0.2403</td>\n",
       "    </tr>\n",
       "    <tr>\n",
       "      <th>4</th>\n",
       "      <td>0.3623</td>\n",
       "      <td>0.3965</td>\n",
       "      <td>0.2412</td>\n",
       "    </tr>\n",
       "  </tbody>\n",
       "</table>\n",
       "</div>"
      ],
      "text/plain": [
       "        C       I       O\n",
       "0  0.3640  0.3967  0.2393\n",
       "1  0.3650  0.3958  0.2392\n",
       "2  0.3638  0.3960  0.2402\n",
       "3  0.3635  0.3962  0.2403\n",
       "4  0.3623  0.3965  0.2412"
      ]
     },
     "execution_count": 142,
     "metadata": {},
     "output_type": "execute_result"
    }
   ],
   "source": [
    "DF = pd.DataFrame(Data)\n",
    "DF.head()"
   ]
  },
  {
   "cell_type": "code",
   "execution_count": 143,
   "metadata": {},
   "outputs": [
    {
     "data": {
      "text/plain": [
       "<matplotlib.axes._subplots.AxesSubplot at 0x1a2abd8b38>"
      ]
     },
     "execution_count": 143,
     "metadata": {},
     "output_type": "execute_result"
    },
    {
     "data": {
      "image/png": "[encoded data removed]",
      "text/plain": [
       "<Figure size 864x576 with 1 Axes>"
      ]
     },
     "metadata": {
      "needs_background": "light"
     },
     "output_type": "display_data"
    }
   ],
   "source": [
    "DF.plot(figsize = [12,8])   "
   ]
  },
  {
   "cell_type": "code",
   "execution_count": 144,
   "metadata": {},
   "outputs": [],
   "source": [
    "I = 0.4\n",
    "C =0.36\n",
    "O = 0.24"
   ]
  },
  {
   "cell_type": "markdown",
   "metadata": {},
   "source": [
    "### 2. Analytical Solution"
   ]
  },
  {
   "cell_type": "markdown",
   "metadata": {},
   "source": [
    "$\\large{o = \\frac{1}{1 + \\frac{k_{oc}}{k_{co}} + \\frac{k_{oi}}{k_{io}}}}$"
   ]
  },
  {
   "cell_type": "code",
   "execution_count": 146,
   "metadata": {},
   "outputs": [
    {
     "data": {
      "text/plain": [
       "0.24"
      ]
     },
     "execution_count": 146,
     "metadata": {},
     "output_type": "execute_result"
    }
   ],
   "source": [
    " 1/(1+(k_oc/k_co)+(k_oi/k_io))"
   ]
  },
  {
   "cell_type": "markdown",
   "metadata": {},
   "source": [
    "-------"
   ]
  },
  {
   "cell_type": "markdown",
   "metadata": {},
   "source": [
    "$\\large{o = \\frac{\\frac{k_{oc}}{k_{co}}}{1 + \\frac{k_{oc}}{k_{co}} + \\frac{k_{oi}}{k_{io}}}}$"
   ]
  },
  {
   "cell_type": "code",
   "execution_count": 147,
   "metadata": {},
   "outputs": [
    {
     "data": {
      "text/plain": [
       "0.36"
      ]
     },
     "execution_count": 147,
     "metadata": {},
     "output_type": "execute_result"
    }
   ],
   "source": [
    " (k_oc/k_co)/(1+(k_oc/k_co)+(k_oi/k_io))"
   ]
  },
  {
   "cell_type": "markdown",
   "metadata": {},
   "source": [
    "--------"
   ]
  },
  {
   "cell_type": "markdown",
   "metadata": {},
   "source": [
    "$\\large{o = \\frac{\\frac{k_{oi}}{k_{io}}}{1 + \\frac{k_{oc}}{k_{co}} + \\frac{k_{oi}}{k_{io}}}}$"
   ]
  },
  {
   "cell_type": "code",
   "execution_count": 148,
   "metadata": {},
   "outputs": [
    {
     "data": {
      "text/plain": [
       "0.39999999999999997"
      ]
     },
     "execution_count": 148,
     "metadata": {},
     "output_type": "execute_result"
    }
   ],
   "source": [
    " (k_oi/k_io)/(1+(k_oc/k_co)+(k_oi/k_io))"
   ]
  },
  {
   "cell_type": "markdown",
   "metadata": {},
   "source": [
    "### Linear Algebra Approach"
   ]
  },
  {
   "cell_type": "markdown",
   "metadata": {},
   "source": [
    "Probabilities of Open, Closed and Inactivated states are governed by following system of ordinary differential equations:\n",
    "\n",
    "\n",
    "$ o^{'} = k_{io}i + k_{oc}c - (k_{oi} + k_{oc})o$\n",
    "\n",
    "$ c^{'} = k_{oc}o + k_{ic}i - (k_{co} + k_{ci})c$\n",
    "\n",
    "$ i^{'} = k_{oi}o + k_{ci}c - (k_{io} + k_{ic})i$\n",
    "\n"
   ]
  },
  {
   "cell_type": "code",
   "execution_count": 169,
   "metadata": {},
   "outputs": [],
   "source": [
    "B = np.array([[(k_oi + k_oc + k_io),   (k_io - k_co)],\n",
    "              [ (k_ic - k_oc), (k_co + k_ci + k_ic)]])\n",
    "\n",
    "b = np.array([k_io,k_ic])"
   ]
  },
  {
   "cell_type": "code",
   "execution_count": 170,
   "metadata": {},
   "outputs": [],
   "source": [
    "Binv = np.linalg.inv(B)"
   ]
  },
  {
   "cell_type": "code",
   "execution_count": 172,
   "metadata": {},
   "outputs": [
    {
     "data": {
      "text/plain": [
       "(array([0.24, 0.36]), 0.4)"
      ]
     },
     "execution_count": 172,
     "metadata": {},
     "output_type": "execute_result"
    }
   ],
   "source": [
    "np.dot(Binv,b), 1-0.24-0.36"
   ]
  },
  {
   "cell_type": "code",
   "execution_count": null,
   "metadata": {},
   "outputs": [],
   "source": []
  },
  {
   "cell_type": "code",
   "execution_count": null,
   "metadata": {},
   "outputs": [],
   "source": []
  }
 ],
 "metadata": {
  "kernelspec": {
   "display_name": "Python 3",
   "language": "python",
   "name": "python3"
  },
  "language_info": {
   "codemirror_mode": {
    "name": "ipython",
    "version": 3
   },
   "file_extension": ".py",
   "mimetype": "text/x-python",
   "name": "python",
   "nbconvert_exporter": "python",
   "pygments_lexer": "ipython3",
   "version": "3.7.1"
  }
 },
 "nbformat": 4,
 "nbformat_minor": 2
}
